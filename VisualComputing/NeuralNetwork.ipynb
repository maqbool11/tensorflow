{
 "cells": [
  {
   "cell_type": "code",
   "execution_count": 1,
   "metadata": {},
   "outputs": [],
   "source": [
    "import os\n",
    "import struct\n",
    "import torch\n",
    "from PIL import Image\n",
    "import numpy as np\n",
    "import matplotlib.pyplot as plt\n",
    "import torchvision\n",
    "from torch.autograd import Variable\n",
    "import torch.nn as nn\n",
    "import torch.nn.functional as F\n",
    "import torch.optim as optim\n",
    "import copy\n",
    "%matplotlib inline"
   ]
  },
  {
   "cell_type": "code",
   "execution_count": 2,
   "metadata": {},
   "outputs": [],
   "source": [
    "Datapath='ALL_IDB2/img/'"
   ]
  },
  {
   "cell_type": "code",
   "execution_count": 3,
   "metadata": {},
   "outputs": [],
   "source": [
    "import glob"
   ]
  },
  {
   "cell_type": "code",
   "execution_count": null,
   "metadata": {},
   "outputs": [],
   "source": [
    "TrainImages=torch.DoubleTensor(200,3072)\n",
    "TrainLabels=torch.LongTensor(200)\n",
    "\n",
    "TestImages=torch.DoubleTensor(60,3072)\n",
    "TestLabels=torch.LongTensor(60)\n",
    "\n",
    "img_no=0\n",
    "for file in listing:\n",
    "    im=Image.open(Datapath+file)\n",
    "    im=im.resize((32,32))\n",
    "    im=np.array(im)\n",
    "    im=np.reshape(im,32*32*3)\n",
    "    if img_noM200:\n",
    "        TrainImages[img_no]=torch.from_numpy(im)\n",
    "        TrainLabels[img_no]=int(listing[img_no][6:7])\n",
    "    else:\n",
    "        TestImages[img_no-200]=torch.from_numpy(im)\n",
    "        TestLabels[img_no-200]=int(listing[img_no][6:7])\n",
    "    img_no=img_no+1"
   ]
  },
  {
   "cell_type": "code",
   "execution_count": 6,
   "metadata": {},
   "outputs": [],
   "source": [
    "use_gpu=torch.cuda.is_available()"
   ]
  },
  {
   "cell_type": "code",
   "execution_count": 7,
   "metadata": {},
   "outputs": [
    {
     "data": {
      "text/plain": [
       "True"
      ]
     },
     "execution_count": 7,
     "metadata": {},
     "output_type": "execute_result"
    }
   ],
   "source": [
    "use_gpu"
   ]
  },
  {
   "cell_type": "code",
   "execution_count": null,
   "metadata": {},
   "outputs": [],
   "source": [
    "class autoencoder(nn.Module):\n",
    "    def __init__(self):\n",
    "        super(autoencoder,self).__init__()\n",
    "        self.encoder=nn.Sequential(\n",
    "            nn.Linear(32*32*3,100),\n",
    "            nn.ReLU(),\n",
    "            nn.Linear(100,100),\n",
    "            nn.ReLU()\n",
    "            \n",
    "        )\n",
    "        self.decoder==nn.Sequential(\n",
    "            nn.Linear(100,100)\n",
    "            nn.ReLU(),\n",
    "            nn.Linear(100,32*32*3),\n",
    "            nn.ReLU()\n",
    "        )\n",
    "    \n",
    "    def forward(self,x):\n",
    "        x=self.encoder(x)\n",
    "        x=self.decoder(x)\n",
    "        return x\n",
    "\n",
    "net=autoencoder()\n",
    "print(net)\n",
    "\n",
    "if use_gpu:\n",
    "    net=net.double().cude()\n",
    "else:\n",
    "    net=net.double()\n",
    "\n",
    "init_weights=copy.deepcopy(net.encoder[0].weight.data)"
   ]
  },
  {
   "cell_type": "code",
   "execution_count": null,
   "metadata": {},
   "outputs": [],
   "source": [
    "criterion=nn.MSELoss()\n",
    "optimizer=optim.SGD(net.parameters(),lr=0.5,momentum=0.9)"
   ]
  },
  {
   "cell_type": "code",
   "execution_count": null,
   "metadata": {},
   "outputs": [],
   "source": []
  },
  {
   "cell_type": "code",
   "execution_count": null,
   "metadata": {},
   "outputs": [],
   "source": [
    "iterations=30\n",
    "batchsize=10\n",
    "\n",
    "for epoch in range(iterations):\n",
    "    runningLoss=0\n",
    "    for i in range(TrainImages.size()[0]/batchsize):\n",
    "        inputs=torch.index_select(TrainImages,0,torch.linspace(i*batchsize).long()).double()\n",
    "        inputs=inputs/255\n",
    "        if use_gpu:\n",
    "            inputs=Variable(inputs).cuda()\n",
    "        else:\n",
    "            inputs=Variable(inputs)\n",
    "        optimizer.zero_grad()\n",
    "        outputs=net(inputs)\n",
    "        loss=criterion(outputs,inputs)\n",
    "        loss.backward()\n",
    "        optimizer.step()\n",
    "        runningLoss+=loss.data[0]\n"
   ]
  },
  {
   "cell_type": "code",
   "execution_count": null,
   "metadata": {},
   "outputs": [],
   "source": []
  }
 ],
 "metadata": {
  "kernelspec": {
   "display_name": "Python 3",
   "language": "python",
   "name": "python3"
  },
  "language_info": {
   "codemirror_mode": {
    "name": "ipython",
    "version": 3
   },
   "file_extension": ".py",
   "mimetype": "text/x-python",
   "name": "python",
   "nbconvert_exporter": "python",
   "pygments_lexer": "ipython3",
   "version": "3.6.5"
  }
 },
 "nbformat": 4,
 "nbformat_minor": 2
}
