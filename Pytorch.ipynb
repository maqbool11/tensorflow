{
 "cells": [
  {
   "cell_type": "code",
   "execution_count": 1,
   "metadata": {},
   "outputs": [],
   "source": [
    "import numpy as np\n",
    "import matplotlib.pyplot as plt\n",
    "%matplotlib inline"
   ]
  },
  {
   "cell_type": "code",
   "execution_count": 24,
   "metadata": {},
   "outputs": [
    {
     "name": "stdout",
     "output_type": "stream",
     "text": [
      "[[1, 2, 3], [4, 5, 6], [7, 8, 9]]\n"
     ]
    }
   ],
   "source": [
    "a=[[1,2,3],[4,5,6],[7,8,9]]\n",
    "print(a)"
   ]
  },
  {
   "cell_type": "code",
   "execution_count": 25,
   "metadata": {},
   "outputs": [
    {
     "data": {
      "text/plain": [
       "array([[1, 2, 3],\n",
       "       [4, 5, 6],\n",
       "       [7, 8, 9]])"
      ]
     },
     "execution_count": 25,
     "metadata": {},
     "output_type": "execute_result"
    }
   ],
   "source": [
    "np.array(a)"
   ]
  },
  {
   "cell_type": "code",
   "execution_count": 2,
   "metadata": {},
   "outputs": [],
   "source": [
    "import torch"
   ]
  },
  {
   "cell_type": "code",
   "execution_count": 26,
   "metadata": {},
   "outputs": [
    {
     "data": {
      "text/plain": [
       "tensor([[1., 2., 3.],\n",
       "        [4., 5., 6.],\n",
       "        [7., 8., 9.]])"
      ]
     },
     "execution_count": 26,
     "metadata": {},
     "output_type": "execute_result"
    }
   ],
   "source": [
    "torch.Tensor(a)"
   ]
  },
  {
   "cell_type": "code",
   "execution_count": 27,
   "metadata": {},
   "outputs": [
    {
     "data": {
      "text/plain": [
       "array([[1., 1.],\n",
       "       [1., 1.]])"
      ]
     },
     "execution_count": 27,
     "metadata": {},
     "output_type": "execute_result"
    }
   ],
   "source": [
    "np.ones((2,2))"
   ]
  },
  {
   "cell_type": "code",
   "execution_count": 28,
   "metadata": {},
   "outputs": [
    {
     "data": {
      "text/plain": [
       "tensor([[1., 1.],\n",
       "        [1., 1.]])"
      ]
     },
     "execution_count": 28,
     "metadata": {},
     "output_type": "execute_result"
    }
   ],
   "source": [
    "torch.ones((2,2))"
   ]
  },
  {
   "cell_type": "code",
   "execution_count": 29,
   "metadata": {},
   "outputs": [
    {
     "data": {
      "text/plain": [
       "array([[0.53720681, 0.19566059],\n",
       "       [0.76552398, 0.07939125]])"
      ]
     },
     "execution_count": 29,
     "metadata": {},
     "output_type": "execute_result"
    }
   ],
   "source": [
    "np.random.rand(2,2)"
   ]
  },
  {
   "cell_type": "code",
   "execution_count": 30,
   "metadata": {},
   "outputs": [
    {
     "data": {
      "text/plain": [
       "tensor([[0.9417, 0.2292],\n",
       "        [0.0063, 0.6658]])"
      ]
     },
     "execution_count": 30,
     "metadata": {},
     "output_type": "execute_result"
    }
   ],
   "source": [
    "torch.rand(2,2)"
   ]
  },
  {
   "cell_type": "code",
   "execution_count": 31,
   "metadata": {},
   "outputs": [
    {
     "data": {
      "text/plain": [
       "array([[0.5488135 , 0.71518937],\n",
       "       [0.60276338, 0.54488318]])"
      ]
     },
     "execution_count": 31,
     "metadata": {},
     "output_type": "execute_result"
    }
   ],
   "source": [
    "np.random.seed(0)\n",
    "np.random.rand(2,2)"
   ]
  },
  {
   "cell_type": "code",
   "execution_count": 33,
   "metadata": {},
   "outputs": [
    {
     "data": {
      "text/plain": [
       "array([[0.5488135 , 0.71518937],\n",
       "       [0.60276338, 0.54488318]])"
      ]
     },
     "execution_count": 33,
     "metadata": {},
     "output_type": "execute_result"
    }
   ],
   "source": [
    "np.random.seed(0)\n",
    "np.random.rand(2,2)"
   ]
  },
  {
   "cell_type": "code",
   "execution_count": 35,
   "metadata": {},
   "outputs": [
    {
     "data": {
      "text/plain": [
       "array([[0.14675589, 0.09233859],\n",
       "       [0.18626021, 0.34556073]])"
      ]
     },
     "execution_count": 35,
     "metadata": {},
     "output_type": "execute_result"
    }
   ],
   "source": [
    "np.random.rand(2,2)"
   ]
  },
  {
   "cell_type": "code",
   "execution_count": 36,
   "metadata": {},
   "outputs": [
    {
     "data": {
      "text/plain": [
       "tensor([[0.4963, 0.7682],\n",
       "        [0.0885, 0.1320]])"
      ]
     },
     "execution_count": 36,
     "metadata": {},
     "output_type": "execute_result"
    }
   ],
   "source": [
    "torch.manual_seed(0)\n",
    "torch.rand(2,2)"
   ]
  },
  {
   "cell_type": "code",
   "execution_count": 37,
   "metadata": {},
   "outputs": [
    {
     "data": {
      "text/plain": [
       "tensor([[0.4963, 0.7682],\n",
       "        [0.0885, 0.1320]])"
      ]
     },
     "execution_count": 37,
     "metadata": {},
     "output_type": "execute_result"
    }
   ],
   "source": [
    "torch.manual_seed(0)\n",
    "torch.rand(2,2)"
   ]
  },
  {
   "cell_type": "code",
   "execution_count": 38,
   "metadata": {},
   "outputs": [
    {
     "data": {
      "text/plain": [
       "tensor([[0.3074, 0.6341],\n",
       "        [0.4901, 0.8964]])"
      ]
     },
     "execution_count": 38,
     "metadata": {},
     "output_type": "execute_result"
    }
   ],
   "source": [
    "torch.rand(2,2)"
   ]
  },
  {
   "cell_type": "code",
   "execution_count": 40,
   "metadata": {},
   "outputs": [
    {
     "name": "stdout",
     "output_type": "stream",
     "text": [
      "1\n"
     ]
    }
   ],
   "source": [
    "if torch.cuda.is_available():\n",
    "    print(1)\n",
    "    torch.cuda.manual_seed_all(0)"
   ]
  },
  {
   "cell_type": "code",
   "execution_count": 41,
   "metadata": {},
   "outputs": [
    {
     "name": "stdout",
     "output_type": "stream",
     "text": [
      "[[1. 1.]\n",
      " [1. 1.]]\n"
     ]
    }
   ],
   "source": [
    "a=np.ones((2,2))\n",
    "print(a)"
   ]
  },
  {
   "cell_type": "code",
   "execution_count": 42,
   "metadata": {},
   "outputs": [
    {
     "name": "stdout",
     "output_type": "stream",
     "text": [
      "<class 'numpy.ndarray'>\n"
     ]
    }
   ],
   "source": [
    "print(type(a))"
   ]
  },
  {
   "cell_type": "code",
   "execution_count": 44,
   "metadata": {},
   "outputs": [
    {
     "name": "stdout",
     "output_type": "stream",
     "text": [
      "tensor([[1., 1.],\n",
      "        [1., 1.]], dtype=torch.float64)\n"
     ]
    }
   ],
   "source": [
    "#Numpy to torch\n",
    "torch_a=torch.from_numpy(a)\n",
    "print(torch_a)"
   ]
  },
  {
   "cell_type": "code",
   "execution_count": 3,
   "metadata": {},
   "outputs": [
    {
     "name": "stdout",
     "output_type": "stream",
     "text": [
      "tensor([[1, 1],\n",
      "        [1, 1]])\n",
      "tensor([[[[1],\n",
      "          [1]],\n",
      "\n",
      "         [[1],\n",
      "          [1]],\n",
      "\n",
      "         [[1],\n",
      "          [1]]],\n",
      "\n",
      "\n",
      "        [[[1],\n",
      "          [1]],\n",
      "\n",
      "         [[1],\n",
      "          [1]],\n",
      "\n",
      "         [[1],\n",
      "          [1]]]], dtype=torch.int32)\n",
      "tensor([[1, 1],\n",
      "        [1, 1]], dtype=torch.uint8)\n",
      "tensor([[1., 1.],\n",
      "        [1., 1.]], dtype=torch.float64)\n"
     ]
    }
   ],
   "source": [
    "a=np.ones((2,2),dtype=np.int64)\n",
    "b=np.ones((2,3,2,1),dtype=np.int32)\n",
    "c=np.ones((2,2),dtype=np.uint8)\n",
    "d=np.ones((2,2),dtype=np.float64)\n",
    "print(torch.from_numpy(a))\n",
    "print(torch.from_numpy(b))\n",
    "print(torch.from_numpy(c))\n",
    "print(torch.from_numpy(d))"
   ]
  },
  {
   "cell_type": "code",
   "execution_count": 4,
   "metadata": {},
   "outputs": [
    {
     "name": "stdout",
     "output_type": "stream",
     "text": [
      "<class 'torch.Tensor'>\n",
      "<class 'numpy.ndarray'>\n"
     ]
    }
   ],
   "source": [
    "#Torch to Numpy\n",
    "torch_a=torch.ones(2,2)\n",
    "print(type(torch_a))\n",
    "a=torch_a.numpy()\n",
    "print(type(a))"
   ]
  },
  {
   "cell_type": "code",
   "execution_count": 5,
   "metadata": {},
   "outputs": [],
   "source": [
    "#Tensor on CPU\n",
    "tcpu=torch.ones(3,3)"
   ]
  },
  {
   "cell_type": "code",
   "execution_count": 6,
   "metadata": {},
   "outputs": [
    {
     "data": {
      "text/plain": [
       "tensor([[1., 1., 1.],\n",
       "        [1., 1., 1.],\n",
       "        [1., 1., 1.]])"
      ]
     },
     "execution_count": 6,
     "metadata": {},
     "output_type": "execute_result"
    }
   ],
   "source": [
    "tcpu"
   ]
  },
  {
   "cell_type": "code",
   "execution_count": 7,
   "metadata": {},
   "outputs": [],
   "source": [
    "#CPU to GPU\n",
    "if torch.cuda.is_available():\n",
    "    tcpu.cuda()"
   ]
  },
  {
   "cell_type": "code",
   "execution_count": 8,
   "metadata": {},
   "outputs": [
    {
     "data": {
      "text/plain": [
       "tensor([[1., 1., 1.],\n",
       "        [1., 1., 1.],\n",
       "        [1., 1., 1.]])"
      ]
     },
     "execution_count": 8,
     "metadata": {},
     "output_type": "execute_result"
    }
   ],
   "source": [
    "tcpu.cpu()"
   ]
  },
  {
   "cell_type": "code",
   "execution_count": 9,
   "metadata": {},
   "outputs": [
    {
     "name": "stdout",
     "output_type": "stream",
     "text": [
      "torch.Size([3, 3])\n"
     ]
    }
   ],
   "source": [
    "print(tcpu.size())"
   ]
  },
  {
   "cell_type": "code",
   "execution_count": 10,
   "metadata": {},
   "outputs": [
    {
     "name": "stdout",
     "output_type": "stream",
     "text": [
      "tensor([[1., 1., 1.],\n",
      "        [1., 1., 1.],\n",
      "        [1., 1., 1.]])\n"
     ]
    }
   ],
   "source": [
    "b=tcpu.numpy()\n",
    "print(torch.from_numpy(b))"
   ]
  },
  {
   "cell_type": "code",
   "execution_count": 69,
   "metadata": {},
   "outputs": [
    {
     "data": {
      "text/plain": [
       "tensor([1., 1., 1., 1., 1., 1., 1., 1., 1.])"
      ]
     },
     "execution_count": 69,
     "metadata": {},
     "output_type": "execute_result"
    }
   ],
   "source": [
    "tcpu.view(9)"
   ]
  },
  {
   "cell_type": "code",
   "execution_count": 71,
   "metadata": {},
   "outputs": [
    {
     "name": "stdout",
     "output_type": "stream",
     "text": [
      "tensor([[2., 2.],\n",
      "        [2., 2.]])\n",
      "tensor([[2., 2.],\n",
      "        [2., 2.]])\n"
     ]
    }
   ],
   "source": [
    "a=torch.ones(2,2)\n",
    "b=torch.ones(2,2)\n",
    "c=a+b\n",
    "print(torch.add(a,b))\n",
    "print(c)"
   ]
  },
  {
   "cell_type": "code",
   "execution_count": 11,
   "metadata": {},
   "outputs": [
    {
     "data": {
      "text/plain": [
       "torch.Size([10])"
      ]
     },
     "execution_count": 11,
     "metadata": {},
     "output_type": "execute_result"
    }
   ],
   "source": [
    "a=torch.Tensor([1,2,3,4,5,6,7,8,9,10])\n",
    "a.size()"
   ]
  },
  {
   "cell_type": "code",
   "execution_count": 12,
   "metadata": {},
   "outputs": [
    {
     "data": {
      "text/plain": [
       "tensor(5.5000)"
      ]
     },
     "execution_count": 12,
     "metadata": {},
     "output_type": "execute_result"
    }
   ],
   "source": [
    "a.mean()"
   ]
  },
  {
   "cell_type": "code",
   "execution_count": 3,
   "metadata": {},
   "outputs": [],
   "source": [
    "from torch.autograd import Variable"
   ]
  },
  {
   "cell_type": "code",
   "execution_count": 14,
   "metadata": {},
   "outputs": [
    {
     "data": {
      "text/plain": [
       "tensor([[1., 1.],\n",
       "        [1., 1.]], requires_grad=True)"
      ]
     },
     "execution_count": 14,
     "metadata": {},
     "output_type": "execute_result"
    }
   ],
   "source": [
    "a=Variable(torch.ones(2,2),requires_grad=True)\n",
    "a"
   ]
  },
  {
   "cell_type": "code",
   "execution_count": 15,
   "metadata": {},
   "outputs": [
    {
     "data": {
      "text/plain": [
       "tensor([[1., 1.],\n",
       "        [1., 1.]])"
      ]
     },
     "execution_count": 15,
     "metadata": {},
     "output_type": "execute_result"
    }
   ],
   "source": [
    "torch.ones(2,2)"
   ]
  },
  {
   "cell_type": "code",
   "execution_count": 16,
   "metadata": {},
   "outputs": [
    {
     "name": "stdout",
     "output_type": "stream",
     "text": [
      "tensor([[2., 2.],\n",
      "        [2., 2.]], grad_fn=<ThAddBackward>)\n"
     ]
    }
   ],
   "source": [
    "b=Variable(torch.ones(2,2),requires_grad=True)\n",
    "print(torch.add(a,b))"
   ]
  },
  {
   "cell_type": "code",
   "execution_count": 27,
   "metadata": {},
   "outputs": [
    {
     "data": {
      "text/plain": [
       "tensor([1., 1.], requires_grad=True)"
      ]
     },
     "execution_count": 27,
     "metadata": {},
     "output_type": "execute_result"
    }
   ],
   "source": [
    "x=Variable(torch.ones(2),requires_grad=True)\n",
    "x"
   ]
  },
  {
   "cell_type": "code",
   "execution_count": 21,
   "metadata": {},
   "outputs": [
    {
     "name": "stdout",
     "output_type": "stream",
     "text": [
      "[1. 1.]\n"
     ]
    }
   ],
   "source": [
    "print(x.detach().numpy())"
   ]
  },
  {
   "cell_type": "code",
   "execution_count": 28,
   "metadata": {},
   "outputs": [
    {
     "data": {
      "text/plain": [
       "tensor([20., 20.], grad_fn=<MulBackward>)"
      ]
     },
     "execution_count": 28,
     "metadata": {},
     "output_type": "execute_result"
    }
   ],
   "source": [
    "y=5*(x+1)**2\n",
    "y"
   ]
  },
  {
   "cell_type": "code",
   "execution_count": 29,
   "metadata": {},
   "outputs": [
    {
     "data": {
      "text/plain": [
       "tensor(20., grad_fn=<MulBackward>)"
      ]
     },
     "execution_count": 29,
     "metadata": {},
     "output_type": "execute_result"
    }
   ],
   "source": [
    "o=(1/2)*torch.sum(y)\n",
    "o"
   ]
  },
  {
   "cell_type": "code",
   "execution_count": 24,
   "metadata": {},
   "outputs": [],
   "source": [
    "o.backward()"
   ]
  },
  {
   "cell_type": "code",
   "execution_count": 25,
   "metadata": {},
   "outputs": [
    {
     "data": {
      "text/plain": [
       "tensor([10., 10.])"
      ]
     },
     "execution_count": 25,
     "metadata": {},
     "output_type": "execute_result"
    }
   ],
   "source": [
    "x.grad"
   ]
  },
  {
   "cell_type": "code",
   "execution_count": 33,
   "metadata": {},
   "outputs": [
    {
     "data": {
      "text/plain": [
       "tensor([10., 10.])"
      ]
     },
     "execution_count": 33,
     "metadata": {},
     "output_type": "execute_result"
    }
   ],
   "source": [
    "o.backward()\n",
    "x.grad"
   ]
  },
  {
   "cell_type": "code",
   "execution_count": 3,
   "metadata": {},
   "outputs": [
    {
     "data": {
      "image/png": "[encoded data removed]",
      "text/plain": [
       "<Figure size 432x288 with 1 Axes>"
      ]
     },
     "metadata": {},
     "output_type": "display_data"
    }
   ],
   "source": [
    "np.random.seed(1)\n",
    "n=50\n",
    "x=np.random.randn(n)\n",
    "y=x*np.random.randn(n)\n",
    "\n",
    "colors=np.random.randn(n)\n",
    "plt.plot(np.unique(x),np.poly1d(np.polyfit(x,y,1))(np.unique(x)))\n",
    "plt.scatter(x,y,c=colors,alpha=0.5)\n",
    "plt.show()\n",
    "         "
   ]
  },
  {
   "cell_type": "code",
   "execution_count": 4,
   "metadata": {},
   "outputs": [],
   "source": [
    "x_value=[i for i in range(11)]"
   ]
  },
  {
   "cell_type": "code",
   "execution_count": 5,
   "metadata": {},
   "outputs": [
    {
     "name": "stdout",
     "output_type": "stream",
     "text": [
      "[ 0.  1.  2.  3.  4.  5.  6.  7.  8.  9. 10.]\n",
      "(11,)\n"
     ]
    }
   ],
   "source": [
    "X_train=np.array(x_value,dtype=np.float32)\n",
    "print(X_train)\n",
    "print(X_train.shape)"
   ]
  },
  {
   "cell_type": "code",
   "execution_count": 6,
   "metadata": {},
   "outputs": [
    {
     "name": "stdout",
     "output_type": "stream",
     "text": [
      "(11, 1)\n"
     ]
    }
   ],
   "source": [
    "X_train=X_train.reshape(-1,1)\n",
    "print(X_train.shape)"
   ]
  },
  {
   "cell_type": "code",
   "execution_count": 7,
   "metadata": {},
   "outputs": [],
   "source": [
    "y=[2*i+1 for i in X_train]"
   ]
  },
  {
   "cell_type": "code",
   "execution_count": 8,
   "metadata": {},
   "outputs": [
    {
     "name": "stdout",
     "output_type": "stream",
     "text": [
      "(11, 1)\n"
     ]
    }
   ],
   "source": [
    "y=np.array(y,dtype=np.float32)\n",
    "print(y.shape)\n",
    "y=y.reshape(-1,1)\n"
   ]
  },
  {
   "cell_type": "code",
   "execution_count": 1,
   "metadata": {},
   "outputs": [],
   "source": [
    "#Linear Regression"
   ]
  },
  {
   "cell_type": "code",
   "execution_count": 4,
   "metadata": {},
   "outputs": [],
   "source": [
    "import torch.nn as nn"
   ]
  },
  {
   "cell_type": "code",
   "execution_count": 10,
   "metadata": {},
   "outputs": [],
   "source": [
    "class linearRegression(nn.Module):\n",
    "    def __init__(self,input_size,output_size):\n",
    "        super(linearRegression,self).__init__()\n",
    "        self.linear=nn.Linear(input_dim,output_dim)\n",
    "    \n",
    "    def forward(self,x):\n",
    "        out=self.linear(x)\n",
    "        return out"
   ]
  },
  {
   "cell_type": "code",
   "execution_count": 11,
   "metadata": {},
   "outputs": [],
   "source": [
    "input_dim=1\n",
    "output_dim=1\n",
    "model=linearRegression(input_dim,output_dim)"
   ]
  },
  {
   "cell_type": "code",
   "execution_count": 12,
   "metadata": {},
   "outputs": [],
   "source": [
    "criteria=nn.MSELoss()"
   ]
  },
  {
   "cell_type": "code",
   "execution_count": 13,
   "metadata": {},
   "outputs": [],
   "source": [
    "learning_rate=0.01\n",
    "optimizer=torch.optim.SGD(model.parameters(),lr=learning_rate)"
   ]
  },
  {
   "cell_type": "code",
   "execution_count": 16,
   "metadata": {},
   "outputs": [
    {
     "name": "stdout",
     "output_type": "stream",
     "text": [
      "epoch 1 loss 166.1709442138672\n",
      "epoch 2 loss 13.693824768066406\n",
      "epoch 3 loss 1.2551829814910889\n",
      "epoch 4 loss 0.2390594333410263\n",
      "epoch 5 loss 0.15465064346790314\n",
      "epoch 6 loss 0.14625655114650726\n",
      "epoch 7 loss 0.14407965540885925\n",
      "epoch 8 loss 0.14242620766162872\n",
      "epoch 9 loss 0.14083202183246613\n",
      "epoch 10 loss 0.13925911486148834\n",
      "epoch 11 loss 0.13770410418510437\n",
      "epoch 12 loss 0.13616636395454407\n",
      "epoch 13 loss 0.13464584946632385\n",
      "epoch 14 loss 0.13314227759838104\n",
      "epoch 15 loss 0.13165564835071564\n",
      "epoch 16 loss 0.13018526136875153\n",
      "epoch 17 loss 0.12873175740242004\n",
      "epoch 18 loss 0.12729401886463165\n",
      "epoch 19 loss 0.12587259709835052\n",
      "epoch 20 loss 0.1244669258594513\n",
      "epoch 21 loss 0.12307718396186829\n",
      "epoch 22 loss 0.12170261144638062\n",
      "epoch 23 loss 0.12034362554550171\n",
      "epoch 24 loss 0.11899986863136292\n",
      "epoch 25 loss 0.1176709309220314\n",
      "epoch 26 loss 0.11635694652795792\n",
      "epoch 27 loss 0.115057572722435\n",
      "epoch 28 loss 0.11377275735139847\n",
      "epoch 29 loss 0.11250225454568863\n",
      "epoch 30 loss 0.11124596744775772\n",
      "epoch 31 loss 0.11000378429889679\n",
      "epoch 32 loss 0.1087753176689148\n",
      "epoch 33 loss 0.10756061226129532\n",
      "epoch 34 loss 0.10635945945978165\n",
      "epoch 35 loss 0.10517176240682602\n",
      "epoch 36 loss 0.10399740189313889\n",
      "epoch 37 loss 0.10283605754375458\n",
      "epoch 38 loss 0.1016877144575119\n",
      "epoch 39 loss 0.10055210441350937\n",
      "epoch 40 loss 0.09942919760942459\n",
      "epoch 41 loss 0.09831899404525757\n",
      "epoch 42 loss 0.09722106158733368\n",
      "epoch 43 loss 0.09613539278507233\n",
      "epoch 44 loss 0.09506195783615112\n",
      "epoch 45 loss 0.09400039911270142\n",
      "epoch 46 loss 0.0929507464170456\n",
      "epoch 47 loss 0.09191278368234634\n",
      "epoch 48 loss 0.09088636189699173\n",
      "epoch 49 loss 0.08987144380807877\n",
      "epoch 50 loss 0.08886797726154327\n",
      "epoch 51 loss 0.08787557482719421\n",
      "epoch 52 loss 0.08689405024051666\n",
      "epoch 53 loss 0.08592384308576584\n",
      "epoch 54 loss 0.0849643349647522\n",
      "epoch 55 loss 0.0840156301856041\n",
      "epoch 56 loss 0.08307734876871109\n",
      "epoch 57 loss 0.08214971423149109\n",
      "epoch 58 loss 0.08123227208852768\n",
      "epoch 59 loss 0.08032521605491638\n",
      "epoch 60 loss 0.07942834496498108\n",
      "epoch 61 loss 0.07854127138853073\n",
      "epoch 62 loss 0.07766412198543549\n",
      "epoch 63 loss 0.07679705321788788\n",
      "epoch 64 loss 0.07593927532434464\n",
      "epoch 65 loss 0.07509143650531769\n",
      "epoch 66 loss 0.07425270974636078\n",
      "epoch 67 loss 0.07342364639043808\n",
      "epoch 68 loss 0.07260370254516602\n",
      "epoch 69 loss 0.07179302722215652\n",
      "epoch 70 loss 0.07099127769470215\n",
      "epoch 71 loss 0.07019852101802826\n",
      "epoch 72 loss 0.06941460072994232\n",
      "epoch 73 loss 0.06863953918218613\n",
      "epoch 74 loss 0.06787306070327759\n",
      "epoch 75 loss 0.06711502373218536\n",
      "epoch 76 loss 0.06636558473110199\n",
      "epoch 77 loss 0.06562460958957672\n",
      "epoch 78 loss 0.06489159166812897\n",
      "epoch 79 loss 0.06416705995798111\n",
      "epoch 80 loss 0.06345044821500778\n",
      "epoch 81 loss 0.06274204701185226\n",
      "epoch 82 loss 0.062041301280260086\n",
      "epoch 83 loss 0.06134850159287453\n",
      "epoch 84 loss 0.060663461685180664\n",
      "epoch 85 loss 0.05998610705137253\n",
      "epoch 86 loss 0.05931618809700012\n",
      "epoch 87 loss 0.0586538165807724\n",
      "epoch 88 loss 0.05799887701869011\n",
      "epoch 89 loss 0.05735111981630325\n",
      "epoch 90 loss 0.05671066418290138\n",
      "epoch 91 loss 0.05607745051383972\n",
      "epoch 92 loss 0.05545135587453842\n",
      "epoch 93 loss 0.05483207106590271\n",
      "epoch 94 loss 0.05421983450651169\n",
      "epoch 95 loss 0.05361425504088402\n",
      "epoch 96 loss 0.05301562696695328\n",
      "epoch 97 loss 0.052423518151044846\n",
      "epoch 98 loss 0.0518382228910923\n",
      "epoch 99 loss 0.05125928670167923\n",
      "epoch 100 loss 0.050686854869127274\n"
     ]
    },
    {
     "name": "stderr",
     "output_type": "stream",
     "text": [
      "C:\\ProgramData\\Anaconda3\\lib\\site-packages\\ipykernel_launcher.py:12: UserWarning: invalid index of a 0-dim tensor. This will be an error in PyTorch 0.5. Use tensor.item() to convert a 0-dim tensor to a Python number\n",
      "  if sys.path[0] == '':\n"
     ]
    }
   ],
   "source": [
    "for epoch in range(100):\n",
    "    epoch+=1\n",
    "    inputs=Variable(torch.from_numpy(X_train))\n",
    "    labels=Variable(torch.from_numpy(y))\n",
    "    \n",
    "    optimizer.zero_grad()\n",
    "    \n",
    "    outputs=model(inputs)\n",
    "    loss=criteria(outputs,labels)\n",
    "    loss.backward()\n",
    "    optimizer.step()\n",
    "    print('epoch {} loss {}'.format(epoch,loss.data[0]))"
   ]
  },
  {
   "cell_type": "code",
   "execution_count": 5,
   "metadata": {},
   "outputs": [],
   "source": [
    "import torchvision.transforms as transforms\n",
    "import torchvision.datasets as dsets"
   ]
  },
  {
   "cell_type": "code",
   "execution_count": 6,
   "metadata": {},
   "outputs": [
    {
     "name": "stdout",
     "output_type": "stream",
     "text": [
      "Downloading http://yann.lecun.com/exdb/mnist/train-images-idx3-ubyte.gz\n",
      "Downloading http://yann.lecun.com/exdb/mnist/train-labels-idx1-ubyte.gz\n",
      "Downloading http://yann.lecun.com/exdb/mnist/t10k-images-idx3-ubyte.gz\n",
      "Downloading http://yann.lecun.com/exdb/mnist/t10k-labels-idx1-ubyte.gz\n",
      "Processing...\n",
      "Done!\n"
     ]
    }
   ],
   "source": [
    "train_dataset=dsets.MNIST(root='./data',\n",
    "                         train=True,\n",
    "                         transform=transforms.ToTensor(),\n",
    "                         download=True)"
   ]
  },
  {
   "cell_type": "code",
   "execution_count": 7,
   "metadata": {},
   "outputs": [
    {
     "data": {
      "text/plain": [
       "60000"
      ]
     },
     "execution_count": 7,
     "metadata": {},
     "output_type": "execute_result"
    }
   ],
   "source": [
    "len(train_dataset)"
   ]
  },
  {
   "cell_type": "code",
   "execution_count": 10,
   "metadata": {},
   "outputs": [
    {
     "data": {
      "text/plain": [
       "tuple"
      ]
     },
     "execution_count": 10,
     "metadata": {},
     "output_type": "execute_result"
    }
   ],
   "source": [
    "type(train_dataset[0])"
   ]
  },
  {
   "cell_type": "code",
   "execution_count": 11,
   "metadata": {},
   "outputs": [
    {
     "data": {
      "text/plain": [
       "torch.Size([1, 28, 28])"
      ]
     },
     "execution_count": 11,
     "metadata": {},
     "output_type": "execute_result"
    }
   ],
   "source": [
    "train_dataset[0][0].size()"
   ]
  },
  {
   "cell_type": "code",
   "execution_count": 16,
   "metadata": {},
   "outputs": [
    {
     "data": {
      "text/plain": [
       "<matplotlib.image.AxesImage at 0xc08f76b5f8>"
      ]
     },
     "execution_count": 16,
     "metadata": {},
     "output_type": "execute_result"
    },
    {
     "data": {
      "image/png": "[encoded data removed]",
      "text/plain": [
       "<Figure size 432x288 with 1 Axes>"
      ]
     },
     "metadata": {},
     "output_type": "display_data"
    }
   ],
   "source": [
    "plt.imshow(train_dataset[0][0].numpy().reshape(28,28),'gray')"
   ]
  },
  {
   "cell_type": "code",
   "execution_count": 20,
   "metadata": {},
   "outputs": [],
   "source": [
    "test_dataset=dsets.MNIST(root='./data',\n",
    "                        train=False,\n",
    "                        transform=transforms.ToTensor())"
   ]
  },
  {
   "cell_type": "code",
   "execution_count": 21,
   "metadata": {},
   "outputs": [
    {
     "data": {
      "text/plain": [
       "<matplotlib.image.AxesImage at 0xc08f7984e0>"
      ]
     },
     "execution_count": 21,
     "metadata": {},
     "output_type": "execute_result"
    },
    {
     "data": {
      "image/png": "[encoded data removed]",
      "text/plain": [
       "<Figure size 432x288 with 1 Axes>"
      ]
     },
     "metadata": {},
     "output_type": "display_data"
    }
   ],
   "source": [
    "plt.imshow(test_dataset[0][0].numpy().reshape(28,28),'gray')"
   ]
  },
  {
   "cell_type": "code",
   "execution_count": 22,
   "metadata": {},
   "outputs": [],
   "source": [
    "batch_size=100\n",
    "n_iters=3000"
   ]
  },
  {
   "cell_type": "code",
   "execution_count": 15,
   "metadata": {},
   "outputs": [
    {
     "data": {
      "text/plain": [
       "5"
      ]
     },
     "execution_count": 15,
     "metadata": {},
     "output_type": "execute_result"
    }
   ],
   "source": [
    "num_epochs=n_iters/(len(train_dataset)/batch_size)\n",
    "num_epochs=int(num_epochs)\n",
    "num_epochs"
   ]
  },
  {
   "cell_type": "code",
   "execution_count": 24,
   "metadata": {},
   "outputs": [],
   "source": [
    "train_loader=torch.utils.data.DataLoader(dataset=train_dataset,\n",
    "                                        batch_size=batch_size,\n",
    "                                        shuffle=True)"
   ]
  },
  {
   "cell_type": "code",
   "execution_count": 25,
   "metadata": {},
   "outputs": [
    {
     "data": {
      "text/plain": [
       "True"
      ]
     },
     "execution_count": 25,
     "metadata": {},
     "output_type": "execute_result"
    }
   ],
   "source": [
    "import collections\n",
    "isinstance(train_loader,collections.Iterable)"
   ]
  },
  {
   "cell_type": "code",
   "execution_count": 26,
   "metadata": {},
   "outputs": [],
   "source": [
    "test_loader=torch.utils.data.DataLoader(dataset=test_dataset,\n",
    "                                        batch_size=batch_size,\n",
    "                                        shuffle=False)"
   ]
  },
  {
   "cell_type": "code",
   "execution_count": 27,
   "metadata": {},
   "outputs": [],
   "source": [
    "class LogisticRegression(nn.Module):\n",
    "    def __init__(self,input_dim,output_dim):\n",
    "        super(LogisticRegression,self).__init__()\n",
    "        self.linear=nn.Linear(input_dim,output_dim)\n",
    "        \n",
    "    def forward(self,x):\n",
    "        out=self.linear(x)\n",
    "        return out"
   ]
  },
  {
   "cell_type": "code",
   "execution_count": 28,
   "metadata": {},
   "outputs": [
    {
     "data": {
      "text/plain": [
       "torch.Size([1, 28, 28])"
      ]
     },
     "execution_count": 28,
     "metadata": {},
     "output_type": "execute_result"
    }
   ],
   "source": [
    "train_dataset[0][0].size()"
   ]
  },
  {
   "cell_type": "code",
   "execution_count": 29,
   "metadata": {},
   "outputs": [],
   "source": [
    "input_dim=28*28\n",
    "output_dim=10\n",
    "model=LogisticRegression(input_dim,output_dim)"
   ]
  },
  {
   "cell_type": "code",
   "execution_count": 30,
   "metadata": {},
   "outputs": [],
   "source": [
    "criterion=nn.CrossEntropyLoss()"
   ]
  },
  {
   "cell_type": "code",
   "execution_count": 31,
   "metadata": {},
   "outputs": [],
   "source": [
    "learning_rate=0.001\n",
    "optimizer=torch.optim.SGD(model.parameters(),lr=learning_rate)"
   ]
  },
  {
   "cell_type": "code",
   "execution_count": 33,
   "metadata": {},
   "outputs": [
    {
     "name": "stderr",
     "output_type": "stream",
     "text": [
      "C:\\ProgramData\\Anaconda3\\lib\\site-packages\\ipykernel_launcher.py:32: UserWarning: invalid index of a 0-dim tensor. This will be an error in PyTorch 0.5. Use tensor.item() to convert a 0-dim tensor to a Python number\n"
     ]
    },
    {
     "name": "stdout",
     "output_type": "stream",
     "text": [
      "iteration 500 loss 0.8899600505828857 accuracy83\n",
      "iteration 1000 loss 0.8486135601997375 accuracy83\n",
      "iteration 1500 loss 0.8319770693778992 accuracy84\n",
      "iteration 2000 loss 0.7919811010360718 accuracy84\n",
      "iteration 2500 loss 0.7475183010101318 accuracy85\n",
      "iteration 3000 loss 0.813260555267334 accuracy85\n"
     ]
    }
   ],
   "source": [
    "iter=0\n",
    "for epoch in range(num_epochs):\n",
    "    for i,(images,labels) in enumerate(train_loader):\n",
    "        images=Variable(images.view(-1,28*28))\n",
    "        labels=Variable(labels)\n",
    "    \n",
    "        optimizer.zero_grad()\n",
    "    \n",
    "        outputs=model(images)\n",
    "        loss=criterion(outputs,labels)\n",
    "        loss.backward()\n",
    "        optimizer.step()\n",
    "        iter+=1\n",
    "        \n",
    "        if iter%500==0:\n",
    "            correct=0\n",
    "            total=0\n",
    "            \n",
    "            for images,labels in test_loader:\n",
    "                images=Variable(images.view(-1,28*28))\n",
    "                \n",
    "                outputs=model(images)\n",
    "                \n",
    "                _,predicted=torch.max(outputs.data,1)\n",
    "                \n",
    "                total+=labels.size(0)\n",
    "                correct+=(predicted==labels).sum()\n",
    "                \n",
    "            accuracy=100*correct/total\n",
    "                \n",
    "                \n",
    "            print('iteration {} loss {} accuracy{}'.format(iter,loss.data[0],accuracy))"
   ]
  },
  {
   "cell_type": "code",
   "execution_count": 35,
   "metadata": {},
   "outputs": [
    {
     "name": "stdout",
     "output_type": "stream",
     "text": [
      "outputs\n",
      "<built-in method size of Tensor object at 0x000000C08F76AB40>\n"
     ]
    }
   ],
   "source": [
    "iter_test=0\n",
    "for images,labels in test_loader:\n",
    "    iter_test+=1\n",
    "    images=Variable(images.view(-1,28*28))\n",
    "    outputs=model(images)\n",
    "    \n",
    "    if iter_test==1:\n",
    "        print('outputs')\n",
    "        print(outputs.size)\n",
    "    _,predicted=torch.max(outputs.data,1)"
   ]
  },
  {
   "cell_type": "code",
   "execution_count": 36,
   "metadata": {},
   "outputs": [
    {
     "name": "stdout",
     "output_type": "stream",
     "text": [
      "outputs\n",
      "tensor([-0.3497, -1.7511, -0.5945,  0.1088, -0.0715, -0.4993, -1.3385,  4.1155,\n",
      "        -0.2416,  1.4293], grad_fn=<SelectBackward>)\n"
     ]
    }
   ],
   "source": [
    "iter_test=0\n",
    "for images,labels in test_loader:\n",
    "    iter_test+=1\n",
    "    images=Variable(images.view(-1,28*28))\n",
    "    outputs=model(images)\n",
    "    \n",
    "    if iter_test==1:\n",
    "        print('outputs')\n",
    "        print(outputs[0,:])\n",
    "    _,predicted=torch.max(outputs.data,1)"
   ]
  },
  {
   "cell_type": "code",
   "execution_count": 41,
   "metadata": {},
   "outputs": [
    {
     "name": "stdout",
     "output_type": "stream",
     "text": [
      "Prediction\n",
      "tensor(7)\n",
      "label size\n",
      "torch.Size([100])\n",
      "label for image 0\n",
      "tensor(7)\n"
     ]
    }
   ],
   "source": [
    "iter_test=0\n",
    "for images,labels in test_loader:\n",
    "    iter_test+=1\n",
    "    images=Variable(images.view(-1,28*28))\n",
    "    outputs=model(images)\n",
    "    _,predicted=torch.max(outputs.data,1)\n",
    "    \n",
    "    if iter_test==1:\n",
    "        print('Prediction')\n",
    "        print(predicted[0])\n",
    "        \n",
    "        print('label size')\n",
    "        print(labels.size())\n",
    "        \n",
    "        print('label for image 0')\n",
    "        print(labels[0])\n",
    "   "
   ]
  },
  {
   "cell_type": "code",
   "execution_count": 6,
   "metadata": {},
   "outputs": [],
   "source": [
    "#FeedForward NN"
   ]
  },
  {
   "cell_type": "code",
   "execution_count": 7,
   "metadata": {},
   "outputs": [],
   "source": [
    "train_dataset=dsets.MNIST(root='./data',train=True,\n",
    "                         transform=transforms.ToTensor(),\n",
    "                         download=True)\n",
    "\n",
    "test_dataset=dsets.MNIST(root='./data',train=False,\n",
    "                         transform=transforms.ToTensor())"
   ]
  },
  {
   "cell_type": "code",
   "execution_count": 8,
   "metadata": {},
   "outputs": [],
   "source": [
    "batch_size=100\n",
    "n_iters=3000\n",
    "num_epochs=n_iters/(len(train_dataset)/batch_size)\n",
    "\n",
    "train_loader=torch.utils.data.DataLoader(dataset=train_dataset,\n",
    "                                        batch_size=batch_size,\n",
    "                                        shuffle=True)\n",
    "\n",
    "test_loader=torch.utils.data.DataLoader(dataset=test_dataset,\n",
    "                                        batch_size=batch_size,\n",
    "                                        shuffle=False)"
   ]
  },
  {
   "cell_type": "code",
   "execution_count": 9,
   "metadata": {},
   "outputs": [],
   "source": [
    "class feedforwardnn(nn.Module):\n",
    "    def __init__(self,input_size,hidden_size,num_classes):\n",
    "        super(feedforwardnn,self).__init__()\n",
    "        \n",
    "        self.fc1=nn.Linear(input_dim,hidden_dim)\n",
    "        self.sigmoid=nn.Sigmoid()\n",
    "        self.fc2=nn.Linear(hidden_dim,output_dim)\n",
    "        \n",
    "    def forward(self,x):\n",
    "        out=self.fc1(x)\n",
    "        \n",
    "        out=self.sigmoid(out)\n",
    "        \n",
    "        out=self.fc2(out)\n",
    "        \n",
    "        return out"
   ]
  },
  {
   "cell_type": "code",
   "execution_count": 10,
   "metadata": {},
   "outputs": [],
   "source": [
    "input_dim=28*28\n",
    "hidden_dim=100\n",
    "output_dim=10\n",
    "\n",
    "model=feedforwardnn(input_dim,hidden_dim,output_dim)"
   ]
  },
  {
   "cell_type": "code",
   "execution_count": 11,
   "metadata": {},
   "outputs": [],
   "source": [
    "criteria=nn.CrossEntropyLoss()"
   ]
  },
  {
   "cell_type": "code",
   "execution_count": 12,
   "metadata": {},
   "outputs": [],
   "source": [
    "learning_rate=0.1\n",
    "optimizer=torch.optim.SGD(model.parameters(),lr=learning_rate)\n"
   ]
  },
  {
   "cell_type": "code",
   "execution_count": 13,
   "metadata": {},
   "outputs": [
    {
     "name": "stdout",
     "output_type": "stream",
     "text": [
      "<generator object Module.parameters at 0x00000034E871CBF8>\n",
      "4\n",
      "torch.Size([100, 784])\n",
      "torch.Size([100])\n",
      "torch.Size([10, 100])\n",
      "torch.Size([10])\n"
     ]
    }
   ],
   "source": [
    "print(model.parameters())\n",
    "print(len(list(model.parameters())))\n",
    "print(list(model.parameters())[0].size())\n",
    "print(list(model.parameters())[1].size())\n",
    "print(list(model.parameters())[2].size())\n",
    "print(list(model.parameters())[3].size())"
   ]
  },
  {
   "cell_type": "code",
   "execution_count": 17,
   "metadata": {},
   "outputs": [
    {
     "name": "stderr",
     "output_type": "stream",
     "text": [
      "C:\\ProgramData\\Anaconda3\\lib\\site-packages\\ipykernel_launcher.py:32: UserWarning: invalid index of a 0-dim tensor. This will be an error in PyTorch 0.5. Use tensor.item() to convert a 0-dim tensor to a Python number\n"
     ]
    },
    {
     "name": "stdout",
     "output_type": "stream",
     "text": [
      "iteration 500 loss 0.5552537441253662 accuracy85\n",
      "iteration 1000 loss 0.3868594765663147 accuracy89\n",
      "iteration 1500 loss 0.3034842610359192 accuracy90\n",
      "iteration 2000 loss 0.2385861724615097 accuracy91\n",
      "iteration 2500 loss 0.2963238060474396 accuracy91\n",
      "iteration 3000 loss 0.2925407290458679 accuracy92\n"
     ]
    }
   ],
   "source": [
    "iter=0\n",
    "for epoch in range(num_epochs):\n",
    "    for i,(images,labels) in enumerate(train_loader):\n",
    "        images=Variable(images.view(-1,28*28))\n",
    "        labels=Variable(labels)\n",
    "    \n",
    "        optimizer.zero_grad()\n",
    "    \n",
    "        outputs=model(images)\n",
    "        loss=criteria(outputs,labels)\n",
    "        loss.backward()\n",
    "        optimizer.step()\n",
    "        iter+=1\n",
    "        \n",
    "        if iter%500==0:\n",
    "            correct=0\n",
    "            total=0\n",
    "            \n",
    "            for images,labels in test_loader:\n",
    "                images=Variable(images.view(-1,28*28))\n",
    "                \n",
    "                outputs=model(images)\n",
    "                \n",
    "                _,predicted=torch.max(outputs.data,1)\n",
    "                \n",
    "                total+=labels.size(0)\n",
    "                correct+=(predicted==labels).sum()\n",
    "                \n",
    "            accuracy=100*correct/total\n",
    "                \n",
    "                \n",
    "            print('iteration {} loss {} accuracy{}'.format(iter,loss.data[0],accuracy))"
   ]
  },
  {
   "cell_type": "code",
   "execution_count": 6,
   "metadata": {},
   "outputs": [],
   "source": [
    "#Convolutional NN"
   ]
  },
  {
   "cell_type": "code",
   "execution_count": 20,
   "metadata": {},
   "outputs": [],
   "source": [
    "train_dataset=dsets.MNIST(root='./data',\n",
    "                         train=True,\n",
    "                         transform=transforms.ToTensor(),\n",
    "                         download=True)\n",
    "\n",
    "test_dataset=dsets.MNIST(root='./data',train=False,\n",
    "                        transform=transforms.ToTensor())"
   ]
  },
  {
   "cell_type": "code",
   "execution_count": 21,
   "metadata": {},
   "outputs": [],
   "source": [
    "batch_size=100\n",
    "n_iters=3000\n",
    "\n",
    "num_epochs=n_iters/(len(train_dataset)/batch_size)\n",
    "num_epochs=int(num_epochs)\n",
    "\n",
    "train_loader=torch.utils.data.DataLoader(dataset=train_dataset,\n",
    "                                        batch_size=batch_size,\n",
    "                                        shuffle=True)\n",
    "\n",
    "test_loader=torch.utils.data.DataLoader(dataset=test_dataset,\n",
    "                                        batch_size=batch_size,\n",
    "                                        shuffle=False)"
   ]
  },
  {
   "cell_type": "code",
   "execution_count": 22,
   "metadata": {},
   "outputs": [],
   "source": [
    "class cnnModel(nn.Module):\n",
    "    def __init__(self):\n",
    "        super(cnnModel,self).__init__()\n",
    "        \n",
    "        self.cnn1=nn.Conv2d(in_channels=1,out_channels=16,\n",
    "                           kernel_size=5,stride=1,padding=2)\n",
    "        \n",
    "        self.relu1=nn.ReLU()\n",
    "        \n",
    "        self.maxpool1=nn.MaxPool2d(kernel_size=2)\n",
    "        \n",
    "        self.cnn2=nn.Conv2d(in_channels=16,out_channels=32,\n",
    "                           kernel_size=5,stride=1,padding=2)\n",
    "        \n",
    "        self.relu2=nn.ReLU()\n",
    "        \n",
    "        self.maxpool2=nn.MaxPool2d(kernel_size=2)\n",
    "        \n",
    "        self.fc1=nn.Linear(32*7*7,10)\n",
    "        \n",
    "    def forward(self,x):\n",
    "        \n",
    "        out=self.cnn1(x)\n",
    "        out=self.relu1(out)\n",
    "        \n",
    "        out=self.maxpool1(out)\n",
    "        \n",
    "        out=self.cnn2(out)\n",
    "        out=self.relu2(out)\n",
    "        \n",
    "        out=self.maxpool2(out)\n",
    "        \n",
    "        out=out.view(out.size(0),-1)\n",
    "        \n",
    "        out=self.fc1(out)\n",
    "        \n",
    "        return out\n",
    "        \n",
    "        \n",
    "        "
   ]
  },
  {
   "cell_type": "code",
   "execution_count": 23,
   "metadata": {},
   "outputs": [],
   "source": [
    "model=cnnModel()"
   ]
  },
  {
   "cell_type": "code",
   "execution_count": 24,
   "metadata": {},
   "outputs": [],
   "source": [
    "criteria=nn.CrossEntropyLoss()\n",
    "learning_rate=0.01\n",
    "optimizer=torch.optim.SGD(model.parameters(),lr=learning_rate)"
   ]
  },
  {
   "cell_type": "code",
   "execution_count": 26,
   "metadata": {},
   "outputs": [
    {
     "name": "stderr",
     "output_type": "stream",
     "text": [
      "C:\\ProgramData\\Anaconda3\\lib\\site-packages\\ipykernel_launcher.py:32: UserWarning: invalid index of a 0-dim tensor. This will be an error in PyTorch 0.5. Use tensor.item() to convert a 0-dim tensor to a Python number\n"
     ]
    },
    {
     "name": "stdout",
     "output_type": "stream",
     "text": [
      "iteration 500 loss 0.31424111127853394 accuracy89\n",
      "iteration 1000 loss 0.20720337331295013 accuracy93\n",
      "iteration 1500 loss 0.34727370738983154 accuracy95\n",
      "iteration 2000 loss 0.15701313316822052 accuracy95\n",
      "iteration 2500 loss 0.22879895567893982 accuracy96\n",
      "iteration 3000 loss 0.08581600338220596 accuracy96\n"
     ]
    }
   ],
   "source": [
    "iter=0\n",
    "for epoch in range(num_epochs):\n",
    "    for i,(images,labels) in enumerate(train_loader):\n",
    "        images=Variable(images)\n",
    "        labels=Variable(labels)\n",
    "    \n",
    "        optimizer.zero_grad()\n",
    "    \n",
    "        outputs=model(images)\n",
    "        loss=criteria(outputs,labels)\n",
    "        loss.backward()\n",
    "        optimizer.step()\n",
    "        iter+=1\n",
    "        \n",
    "        if iter%500==0:\n",
    "            correct=0\n",
    "            total=0\n",
    "            \n",
    "            for images,labels in test_loader:\n",
    "                images=Variable(images)\n",
    "                \n",
    "                outputs=model(images)\n",
    "                \n",
    "                _,predicted=torch.max(outputs.data,1)\n",
    "                \n",
    "                total+=labels.size(0)\n",
    "                correct+=(predicted==labels).sum()\n",
    "                \n",
    "            accuracy=100*correct/total\n",
    "                \n",
    "                \n",
    "            print('iteration {} loss {} accuracy{}'.format(iter,loss.data[0],accuracy))"
   ]
  },
  {
   "cell_type": "code",
   "execution_count": 6,
   "metadata": {},
   "outputs": [],
   "source": [
    "#RNN"
   ]
  },
  {
   "cell_type": "code",
   "execution_count": 7,
   "metadata": {},
   "outputs": [],
   "source": [
    "train_dataset=dsets.MNIST(root='./data',train=True,\n",
    "                         transform=transforms.ToTensor(),\n",
    "                         download=True)\n",
    "\n",
    "test_dataset=dsets.MNIST(root='./data',\n",
    "                        train=False,\n",
    "                        transform=transforms.ToTensor())"
   ]
  },
  {
   "cell_type": "code",
   "execution_count": 8,
   "metadata": {},
   "outputs": [],
   "source": [
    "batch_size=100\n",
    "n_iters=3000\n",
    "num_epochs=n_iters/(len(train_dataset)/batch_size)\n",
    "num_epochs=int(num_epochs)\n",
    "\n",
    "\n",
    "train_loader=torch.utils.data.DataLoader(dataset=train_dataset,\n",
    "                                        batch_size=batch_size,\n",
    "                                        shuffle=True)\n",
    "\n",
    "test_loader=torch.utils.data.DataLoader(dataset=test_dataset,\n",
    "                                        batch_size=batch_size,\n",
    "                                        shuffle=False)"
   ]
  },
  {
   "cell_type": "code",
   "execution_count": 9,
   "metadata": {},
   "outputs": [],
   "source": [
    "class rnnModel(nn.Module):\n",
    "    def __init__(self,input_dim,hidden_dim,layer_dim,output_dim):\n",
    "        super(rnnModel,self).__init__()\n",
    "        \n",
    "        self.hidden_dim=hidden_dim\n",
    "        \n",
    "        self.layer_dim=layer_dim\n",
    "        \n",
    "        self.rnn=nn.RNN(input_dim,hidden_dim,layer_dim,batch_first=True,nonlinearity='relu')\n",
    "        \n",
    "        self.fc=nn.Linear(hidden_dim,output_dim)\n",
    "\n",
    "    def forward(self,x):\n",
    "        \n",
    "        h0=Variable(torch.zeros(self.layer_dim,x.size(0),self.hidden_dim))\n",
    "               \n",
    "        out,hn=self.rnn(x,h0)\n",
    "        out=self.fc(out[:,-1,:])\n",
    "        \n",
    "        return out\n",
    "        \n",
    "        \n",
    "        "
   ]
  },
  {
   "cell_type": "code",
   "execution_count": 10,
   "metadata": {},
   "outputs": [],
   "source": [
    "input_dim=28\n",
    "hidden_dim=100\n",
    "layer_dim=1\n",
    "output_dim=10\n",
    "\n",
    "model=rnnModel(input_dim,hidden_dim,layer_dim,output_dim)"
   ]
  },
  {
   "cell_type": "code",
   "execution_count": 11,
   "metadata": {},
   "outputs": [],
   "source": [
    "criteria=nn.CrossEntropyLoss()"
   ]
  },
  {
   "cell_type": "code",
   "execution_count": 12,
   "metadata": {},
   "outputs": [],
   "source": [
    "learning_rate=0.1\n",
    "optimizer=torch.optim.SGD(model.parameters(),lr=learning_rate)"
   ]
  },
  {
   "cell_type": "code",
   "execution_count": 13,
   "metadata": {},
   "outputs": [
    {
     "name": "stderr",
     "output_type": "stream",
     "text": [
      "C:\\ProgramData\\Anaconda3\\lib\\site-packages\\ipykernel_launcher.py:33: UserWarning: invalid index of a 0-dim tensor. This will be an error in PyTorch 0.5. Use tensor.item() to convert a 0-dim tensor to a Python number\n"
     ]
    },
    {
     "name": "stdout",
     "output_type": "stream",
     "text": [
      "iteration 500 loss 1.3023524284362793 accuracy55\n",
      "iteration 1000 loss 0.7688631415367126 accuracy59\n",
      "iteration 1500 loss 0.9617370367050171 accuracy67\n",
      "iteration 2000 loss 1.0255221128463745 accuracy61\n",
      "iteration 2500 loss 0.6692538261413574 accuracy68\n",
      "iteration 3000 loss 0.7344135046005249 accuracy88\n"
     ]
    }
   ],
   "source": [
    "seq_dim=28\n",
    "iter=0\n",
    "for epoch in range(num_epochs):\n",
    "    for i,(images,labels) in enumerate(train_loader):\n",
    "        images=Variable(images.view(-1,seq_dim,input_dim))\n",
    "        labels=Variable(labels)\n",
    "    \n",
    "        optimizer.zero_grad()\n",
    "    \n",
    "        outputs=model(images)\n",
    "        loss=criteria(outputs,labels)\n",
    "        loss.backward()\n",
    "        optimizer.step()\n",
    "        iter+=1\n",
    "        \n",
    "        if iter%500==0:\n",
    "            correct=0\n",
    "            total=0\n",
    "            \n",
    "            for images,labels in test_loader:\n",
    "                images=Variable(images.view(-1,seq_dim,input_dim))\n",
    "                \n",
    "                outputs=model(images)\n",
    "                \n",
    "                _,predicted=torch.max(outputs.data,1)\n",
    "                \n",
    "                total+=labels.size(0)\n",
    "                correct+=(predicted==labels).sum()\n",
    "                \n",
    "            accuracy=100*correct/total\n",
    "                \n",
    "                \n",
    "            print('iteration {} loss {} accuracy{}'.format(iter,loss.data[0],accuracy))"
   ]
  },
  {
   "cell_type": "code",
   "execution_count": 6,
   "metadata": {},
   "outputs": [],
   "source": [
    "#CNN - 2 Reference - https://github.com/yunjey/pytorch-tutorial/blob/master/tutorials/02-intermediate/convolutional_neural_network/main.py"
   ]
  },
  {
   "cell_type": "code",
   "execution_count": 7,
   "metadata": {},
   "outputs": [],
   "source": [
    "device=torch.device('cuda:0')"
   ]
  },
  {
   "cell_type": "code",
   "execution_count": 8,
   "metadata": {},
   "outputs": [],
   "source": [
    "train_dataset=dsets.MNIST(root='./data',\n",
    "                         train=True,\n",
    "                         transform=transforms.ToTensor(),\n",
    "                         )"
   ]
  },
  {
   "cell_type": "code",
   "execution_count": 9,
   "metadata": {},
   "outputs": [],
   "source": [
    "test_dataset=dsets.MNIST(root='./data',\n",
    "                        train=False,\n",
    "                        transform=transforms.ToTensor())"
   ]
  },
  {
   "cell_type": "code",
   "execution_count": 10,
   "metadata": {},
   "outputs": [],
   "source": [
    "train_loader=torch.utils.data.DataLoader(dataset=train_dataset,\n",
    "                                        batch_size=100,\n",
    "                                        shuffle=True)\n",
    "\n",
    "test_loader=torch.utils.data.DataLoader(dataset=test_dataset,\n",
    "                                        batch_size=100,\n",
    "                                        shuffle=False)"
   ]
  },
  {
   "cell_type": "code",
   "execution_count": 12,
   "metadata": {},
   "outputs": [],
   "source": [
    "class CNN(nn.Module):\n",
    "    def __init__(self):\n",
    "        super(CNN,self).__init__()\n",
    "        self.layer1=nn.Sequential(\n",
    "        nn.Conv2d(1,16,kernel_size=5,stride=1,padding=2),\n",
    "        nn.BatchNorm2d(16),\n",
    "        nn.ReLU(),\n",
    "        nn.MaxPool2d(kernel_size=2,stride=2)\n",
    "        )\n",
    "        self.layer2=nn.Sequential(\n",
    "        nn.Conv2d(16,32,kernel_size=5,stride=1,padding=2),\n",
    "        nn.BatchNorm2d(32),\n",
    "        nn.ReLU(),\n",
    "        nn.MaxPool2d(kernel_size=2,stride=2))\n",
    "        self.fc=nn.Linear(7*7*32,10)\n",
    "    \n",
    "    def forward(self,x):\n",
    "        out=self.layer1(x)\n",
    "        out=self.layer2(out)\n",
    "        out=out.reshape(out.size(0),-1)\n",
    "        out=self.fc(out)\n",
    "        return out\n",
    "        "
   ]
  },
  {
   "cell_type": "code",
   "execution_count": 13,
   "metadata": {},
   "outputs": [],
   "source": [
    "model=CNN().to(device)"
   ]
  },
  {
   "cell_type": "code",
   "execution_count": 15,
   "metadata": {},
   "outputs": [
    {
     "name": "stdout",
     "output_type": "stream",
     "text": [
      "Epoch [1/3], Step [100/600], Loss: 0.0525\n",
      "Epoch [1/3], Step [200/600], Loss: 0.0450\n",
      "Epoch [1/3], Step [300/600], Loss: 0.0932\n",
      "Epoch [1/3], Step [400/600], Loss: 0.0897\n",
      "Epoch [1/3], Step [500/600], Loss: 0.0335\n",
      "Epoch [1/3], Step [600/600], Loss: 0.0357\n",
      "Epoch [2/3], Step [100/600], Loss: 0.0349\n",
      "Epoch [2/3], Step [200/600], Loss: 0.0159\n",
      "Epoch [2/3], Step [300/600], Loss: 0.0103\n",
      "Epoch [2/3], Step [400/600], Loss: 0.0299\n",
      "Epoch [2/3], Step [500/600], Loss: 0.0303\n",
      "Epoch [2/3], Step [600/600], Loss: 0.0277\n",
      "Epoch [3/3], Step [100/600], Loss: 0.0629\n",
      "Epoch [3/3], Step [200/600], Loss: 0.0451\n",
      "Epoch [3/3], Step [300/600], Loss: 0.0343\n",
      "Epoch [3/3], Step [400/600], Loss: 0.0305\n",
      "Epoch [3/3], Step [500/600], Loss: 0.0577\n",
      "Epoch [3/3], Step [600/600], Loss: 0.0690\n"
     ]
    }
   ],
   "source": [
    "criterion = nn.CrossEntropyLoss()\n",
    "optimizer = torch.optim.Adam(model.parameters(), lr=0.001)\n",
    "\n",
    "total_step = len(train_loader)\n",
    "for epoch in range(3):\n",
    "    for i, (images, labels) in enumerate(train_loader):\n",
    "        images = images.to(device)\n",
    "        labels = labels.to(device)\n",
    "        \n",
    "        outputs = model(images)\n",
    "        loss = criterion(outputs, labels)\n",
    "\n",
    "        optimizer.zero_grad()\n",
    "        loss.backward()\n",
    "        optimizer.step()\n",
    "        \n",
    "        if (i+1) % 100 == 0:\n",
    "            print ('Epoch [{}/{}], Step [{}/{}], Loss: {:.4f}' \n",
    "                   .format(epoch+1, 3, i+1, total_step, loss.item()))\n"
   ]
  },
  {
   "cell_type": "code",
   "execution_count": 16,
   "metadata": {},
   "outputs": [
    {
     "name": "stdout",
     "output_type": "stream",
     "text": [
      "Test Accuracy of the model on the 10000 test images: 98.86 %\n"
     ]
    }
   ],
   "source": [
    "model.eval() \n",
    "with torch.no_grad():\n",
    "    correct = 0\n",
    "    total = 0\n",
    "    for images, labels in test_loader:\n",
    "        images = images.to(device)\n",
    "        labels = labels.to(device)\n",
    "        outputs = model(images)\n",
    "        _, predicted = torch.max(outputs.data, 1)\n",
    "        total += labels.size(0)\n",
    "        correct += (predicted == labels).sum().item()\n",
    "\n",
    "    print('Test Accuracy of the model on the 10000 test images: {} %'.format(100 * correct / total))\n"
   ]
  },
  {
   "cell_type": "code",
   "execution_count": null,
   "metadata": {},
   "outputs": [],
   "source": []
  }
 ],
 "metadata": {
  "kernelspec": {
   "display_name": "Python 3",
   "language": "python",
   "name": "python3"
  },
  "language_info": {
   "codemirror_mode": {
    "name": "ipython",
    "version": 3
   },
   "file_extension": ".py",
   "mimetype": "text/x-python",
   "name": "python",
   "nbconvert_exporter": "python",
   "pygments_lexer": "ipython3",
   "version": "3.6.5"
  }
 },
 "nbformat": 4,
 "nbformat_minor": 2
}
